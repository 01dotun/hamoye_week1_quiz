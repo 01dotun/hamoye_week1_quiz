{
 "cells": [
  {
   "cell_type": "markdown",
   "id": "6a1a1372-60bd-49e5-9c66-1b5fc43f7284",
   "metadata": {},
   "source": [
    "INTROUCTION\n",
    "A dataset from the Food and Agriculture Organization of the United Nations "
   ]
  },
  {
   "cell_type": "code",
   "execution_count": 2,
   "id": "90fac42c-7521-4f19-b9c2-20482f8cd750",
   "metadata": {},
   "outputs": [],
   "source": [
    "#importing the required libraries\n",
    "import pandas as pd\n",
    "import numpy as np"
   ]
  },
  {
   "cell_type": "code",
   "execution_count": 135,
   "id": "8d00e915-20a7-4f89-8c77-0aa67102f064",
   "metadata": {
    "collapsed": true,
    "jupyter": {
     "outputs_hidden": true
    },
    "tags": []
   },
   "outputs": [
    {
     "name": "stdout",
     "output_type": "stream",
     "text": [
      "<class 'pandas.core.frame.DataFrame'>\n",
      "RangeIndex: 60943 entries, 0 to 60942\n",
      "Data columns (total 12 columns):\n",
      " #   Column        Non-Null Count  Dtype  \n",
      "---  ------        --------------  -----  \n",
      " 0   Area Code     60943 non-null  int64  \n",
      " 1   Area          60943 non-null  object \n",
      " 2   Item Code     60943 non-null  int64  \n",
      " 3   Item          60943 non-null  object \n",
      " 4   Element Code  60943 non-null  int64  \n",
      " 5   Element       60943 non-null  object \n",
      " 6   Unit          60943 non-null  object \n",
      " 7   Y2014         59354 non-null  float64\n",
      " 8   Y2015         59395 non-null  float64\n",
      " 9   Y2016         59408 non-null  float64\n",
      " 10  Y2017         59437 non-null  float64\n",
      " 11  Y2018         59507 non-null  float64\n",
      "dtypes: float64(5), int64(3), object(4)\n",
      "memory usage: 5.6+ MB\n",
      "Domestic supply quantity                  5295\n",
      "Import Quantity                           5139\n",
      "Protein supply quantity (g/capita/day)    5023\n",
      "Fat supply quantity (g/capita/day)        5023\n",
      "Food supply (kcal/capita/day)             5014\n",
      "Food                                      4941\n",
      "Food supply quantity (kg/capita/yr)       4905\n",
      "Residuals                                 4655\n",
      "Export Quantity                           4403\n",
      "Stock Variation                           4232\n",
      "Production                                3881\n",
      "Processing                                2010\n",
      "Losses                                    2009\n",
      "Other uses (non-food)                     1732\n",
      "Feed                                      1319\n",
      "Seed                                       762\n",
      "Tourist consumption                        555\n",
      "Total Population - Both sexes               45\n",
      "Name: Element, dtype: int64\n"
     ]
    }
   ],
   "source": [
    "#loading the file\n",
    "data=pd.read_csv(\"data.csv\", encoding=\"latin_1\")\n",
    "data.columns\n",
    "data.info()\n",
    "print(data[\"Element\"].value_counts())"
   ]
  },
  {
   "cell_type": "markdown",
   "id": "61e904b5-8195-4ae9-b7f7-6c05d2b766a0",
   "metadata": {},
   "source": [
    "Question 1: What is the total number and percentage of missing data in 2014 to 3 decimal places\n"
   ]
  },
  {
   "cell_type": "code",
   "execution_count": 131,
   "id": "366c73c4-cad8-4b97-b244-c1608a61edb9",
   "metadata": {},
   "outputs": [
    {
     "data": {
      "text/plain": [
       "'2.607%'"
      ]
     },
     "execution_count": 131,
     "metadata": {},
     "output_type": "execute_result"
    }
   ],
   "source": [
    "total_number_of_missing_data=data[\"Y2014\"].isnull().sum()\n",
    "total_number_of_missing_data\n",
    "#print(data[\"Y2014\"].info())\n",
    "null_values=data[\"Y2014\"].isnull().sum()\n",
    "total_values=len(data[\"Y2014\"])\n",
    "percentage_of_total_number_of_missing_data=(null_value/total_values)*100\n",
    "percentage_of_total_number_of_missing_data=round(percentage_of_total_number_of_missing_data,3)\n",
    "str(percentage_of_total_number_of_missing_data) +\"%\""
   ]
  },
  {
   "cell_type": "markdown",
   "id": "13c1c50c-7545-4360-9b34-a7ebdc47c2cb",
   "metadata": {
    "tags": []
   },
   "source": [
    "Question 2: What is the total protein supply quantity in Madagascar in 2015"
   ]
  },
  {
   "cell_type": "code",
   "execution_count": 142,
   "id": "26bc1ba4-091f-47cb-9f50-91914f79e595",
   "metadata": {
    "collapsed": true,
    "jupyter": {
     "outputs_hidden": true
    },
    "tags": []
   },
   "outputs": [
    {
     "name": "stdout",
     "output_type": "stream",
     "text": [
      "173.04999999999998\n"
     ]
    }
   ],
   "source": [
    "question_2=data.loc[(data[\"Area\"]==\"Madagascar\")& (data[\"Element\"]==\"Protein supply quantity (g/capita/day)\")]\n",
    "question_2[\"Y2015\"].sum()"
   ]
  },
  {
   "cell_type": "markdown",
   "id": "0edc7504-50cc-4ceb-8660-bd3cdd2871a0",
   "metadata": {
    "jupyter": {
     "outputs_hidden": true
    },
    "tags": []
   },
   "source": [
    "Question 3:  creating a dataframe from a list"
   ]
  },
  {
   "cell_type": "code",
   "execution_count": 151,
   "id": "df9352ae-35fd-437f-9838-6e6e0ecf96e9",
   "metadata": {
    "collapsed": true,
    "jupyter": {
     "outputs_hidden": true
    },
    "tags": []
   },
   "outputs": [
    {
     "data": {
      "text/html": [
       "<div>\n",
       "<style scoped>\n",
       "    .dataframe tbody tr th:only-of-type {\n",
       "        vertical-align: middle;\n",
       "    }\n",
       "\n",
       "    .dataframe tbody tr th {\n",
       "        vertical-align: top;\n",
       "    }\n",
       "\n",
       "    .dataframe thead th {\n",
       "        text-align: right;\n",
       "    }\n",
       "</style>\n",
       "<table border=\"1\" class=\"dataframe\">\n",
       "  <thead>\n",
       "    <tr style=\"text-align: right;\">\n",
       "      <th></th>\n",
       "      <th>Age</th>\n",
       "      <th>Nationality</th>\n",
       "      <th>Overall</th>\n",
       "    </tr>\n",
       "  </thead>\n",
       "  <tbody>\n",
       "    <tr>\n",
       "      <th>1</th>\n",
       "      <td>35</td>\n",
       "      <td>Portugal</td>\n",
       "      <td>94</td>\n",
       "    </tr>\n",
       "    <tr>\n",
       "      <th>2</th>\n",
       "      <td>33</td>\n",
       "      <td>Argentina</td>\n",
       "      <td>93</td>\n",
       "    </tr>\n",
       "    <tr>\n",
       "      <th>3</th>\n",
       "      <td>30</td>\n",
       "      <td>Brazil</td>\n",
       "      <td>92</td>\n",
       "    </tr>\n",
       "  </tbody>\n",
       "</table>\n",
       "</div>"
      ],
      "text/plain": [
       "   Age Nationality  Overall\n",
       "1   35    Portugal       94\n",
       "2   33   Argentina       93\n",
       "3   30      Brazil       92"
      ]
     },
     "execution_count": 151,
     "metadata": {},
     "output_type": "execute_result"
    }
   ],
   "source": [
    "lst = [[35, 'Portugal', 94], [33, 'Argentina', 93], [30 , 'Brazil', 92]]\n",
    "col = ['Age', 'Nationality','Overall']\n",
    "dataframe=pd.DataFrame(lst, columns=col, index=range(1,4))\n",
    "dataframe"
   ]
  },
  {
   "cell_type": "markdown",
   "id": "a55ea8d2-c77b-423b-9e89-4a4f28d5eb60",
   "metadata": {
    "jupyter": {
     "outputs_hidden": true
    },
    "tags": []
   },
   "source": [
    "Question 4: Output for the code"
   ]
  },
  {
   "cell_type": "code",
   "execution_count": 153,
   "id": "3be6e503-5954-42bc-9a4c-04154d73dc70",
   "metadata": {
    "collapsed": true,
    "jupyter": {
     "outputs_hidden": true
    },
    "tags": []
   },
   "outputs": [
    {
     "data": {
      "text/plain": [
       "'l'"
      ]
     },
     "execution_count": 153,
     "metadata": {},
     "output_type": "execute_result"
    }
   ],
   "source": [
    "S = [['him', 'sell'], [90, 28, 43]]\n",
    "\n",
    "S[0][1][1]"
   ]
  },
  {
   "cell_type": "markdown",
   "id": "eb4fbbab-9a00-4c19-bc04-323d16014d56",
   "metadata": {},
   "source": [
    "Question 5: Perform a groupby operation on ‘Element’.  What is the total number of the sum of Processing in 2017?"
   ]
  },
  {
   "cell_type": "code",
   "execution_count": 164,
   "id": "60784c78-02e4-4d70-9f25-c2c9f859f5c5",
   "metadata": {
    "collapsed": true,
    "jupyter": {
     "outputs_hidden": true
    },
    "tags": []
   },
   "outputs": [
    {
     "data": {
      "text/plain": [
       "Element\n",
       "Domestic supply quantity                  2088198.10\n",
       "Export Quantity                            182338.80\n",
       "Fat supply quantity (g/capita/day)          10253.84\n",
       "Feed                                       223705.68\n",
       "Food                                      1258888.28\n",
       "Food supply (kcal/capita/day)              454681.00\n",
       "Food supply quantity (kg/capita/yr)         48690.04\n",
       "Import Quantity                            294559.09\n",
       "Losses                                     160614.00\n",
       "Other uses (non-food)                       91645.97\n",
       "Processing                                 292836.00\n",
       "Production                                2030056.89\n",
       "Protein supply quantity (g/capita/day)      11842.45\n",
       "Residuals                                   35500.00\n",
       "Seed                                        24870.14\n",
       "Stock Variation                             54316.91\n",
       "Total Population - Both sexes             1112641.00\n",
       "Tourist consumption                            91.00\n",
       "Name: Y2017, dtype: float64"
      ]
     },
     "execution_count": 164,
     "metadata": {},
     "output_type": "execute_result"
    }
   ],
   "source": [
    "grouping_by_element=data.groupby(\"Element\")[\"Y2017\"].sum()\n",
    "grouping_by_element"
   ]
  },
  {
   "cell_type": "markdown",
   "id": "dff39269-1f43-4de5-83b6-f704135f1004",
   "metadata": {},
   "source": [
    "What is the mean and standard deviation across the whole dataset for the year 2017 to 2 decimal places"
   ]
  },
  {
   "cell_type": "code",
   "execution_count": 166,
   "id": "f1067ad1-0d2f-4730-bf9e-e76e42b62c84",
   "metadata": {
    "collapsed": true,
    "jupyter": {
     "outputs_hidden": true
    },
    "tags": []
   },
   "outputs": [
    {
     "data": {
      "text/plain": [
       "count     59437.00\n",
       "mean        140.92\n",
       "std        1671.86\n",
       "min       -1582.00\n",
       "25%           0.00\n",
       "50%           0.10\n",
       "75%           9.00\n",
       "max      190873.00\n",
       "Name: Y2017, dtype: float64"
      ]
     },
     "execution_count": 166,
     "metadata": {},
     "output_type": "execute_result"
    }
   ],
   "source": [
    "year_2017=data[\"Y2017\"].describe()\n",
    "round(year_2017, 2)"
   ]
  },
  {
   "cell_type": "markdown",
   "id": "b4646c46-78ce-4ff6-b98d-ba210f6ea14b",
   "metadata": {},
   "source": [
    "What is the total number of unique countries in the dataset?"
   ]
  },
  {
   "cell_type": "code",
   "execution_count": 169,
   "id": "a517731d-c799-40e3-af63-028b399c6bc2",
   "metadata": {
    "collapsed": true,
    "jupyter": {
     "outputs_hidden": true
    },
    "tags": []
   },
   "outputs": [
    {
     "data": {
      "text/plain": [
       "49"
      ]
     },
     "execution_count": 169,
     "metadata": {},
     "output_type": "execute_result"
    }
   ],
   "source": [
    "countries_unique=data[\"Area\"].unique()\n",
    "len(countries_unique)"
   ]
  },
  {
   "cell_type": "markdown",
   "id": "6aa5fa68-1e9e-4028-9ed7-fb0f55f84d3a",
   "metadata": {},
   "source": [
    "Select columns ‘Y2017’ and ‘Area’, Perform a groupby operation on ‘Area’.  Which of these Areas had the highest sum in 2017"
   ]
  },
  {
   "cell_type": "code",
   "execution_count": 177,
   "id": "7ed97fdc-e145-43e3-8f32-90f6980fe85f",
   "metadata": {
    "collapsed": true,
    "jupyter": {
     "outputs_hidden": true
    },
    "tags": []
   },
   "outputs": [
    {
     "data": {
      "text/plain": [
       "Area\n",
       "Nigeria                        1483268.23\n",
       "Egypt                           866379.92\n",
       "South Africa                    517590.54\n",
       "Ethiopia                        448683.76\n",
       "Morocco                         388495.36\n",
       "Ghana                           337599.06\n",
       "Algeria                         325644.27\n",
       "United Republic of Tanzania     322616.85\n",
       "Kenya                           264660.66\n",
       "Sudan                           239931.92\n",
       "Cameroon                        232030.43\n",
       "Angola                          229159.57\n",
       "Côte d'Ivoire                   224599.01\n",
       "Uganda                          213950.38\n",
       "Malawi                          181098.71\n",
       "Mozambique                      161407.98\n",
       "Mauritania                      156665.46\n",
       "Mali                            149928.33\n",
       "Madagascar                      131197.73\n",
       "Niger                           126707.58\n",
       "Benin                           124771.22\n",
       "Tunisia                         124167.20\n",
       "Zambia                          103223.77\n",
       "Burkina Faso                    101855.07\n",
       "Guinea                           98138.87\n",
       "Senegal                          95681.15\n",
       "Zimbabwe                         75919.34\n",
       "Rwanda                           73663.69\n",
       "Chad                             71594.68\n",
       "Sierra Leone                     55311.33\n",
       "Eswatini                         54343.33\n",
       "Mauritius                        51114.83\n",
       "Togo                             49841.88\n",
       "Congo                            41181.68\n",
       "Central African Republic         29937.00\n",
       "Namibia                          29874.89\n",
       "Liberia                          29342.20\n",
       "Gabon                            27979.64\n",
       "Gambia                           23154.18\n",
       "Djibouti                         22729.91\n",
       "Botswana                         22101.30\n",
       "Lesotho                          21267.96\n",
       "Guinea-Bissau                    19102.77\n",
       "Cabo Verde                       14650.74\n",
       "Sao Tome and Principe            12662.63\n",
       "Seychelles                         442.34\n",
       "Comoros                             59.84\n",
       "Sudan (former)                       0.00\n",
       "Ethiopia PDR                         0.00\n",
       "Name: Y2017, dtype: float64"
      ]
     },
     "execution_count": 177,
     "metadata": {},
     "output_type": "execute_result"
    }
   ],
   "source": [
    "highest_country=data.groupby(\"Area\")[\"Y2017\"].sum()\n",
    "highest_country.sort_values(ascending=False)"
   ]
  },
  {
   "cell_type": "markdown",
   "id": "d61b90ee-0237-4ed9-818f-b52b2fcdf82f",
   "metadata": {},
   "source": [
    "What is the total sum of Wine produced in 2015 and 2018 respectively?"
   ]
  },
  {
   "cell_type": "code",
   "execution_count": 180,
   "id": "2063837e-0202-4564-90bd-144bd21f0123",
   "metadata": {
    "collapsed": true,
    "jupyter": {
     "outputs_hidden": true
    },
    "tags": []
   },
   "outputs": [
    {
     "data": {
      "text/plain": [
       "4039.32"
      ]
     },
     "execution_count": 180,
     "metadata": {},
     "output_type": "execute_result"
    }
   ],
   "source": [
    "wine_summation=data.loc[data[\"Item\"]==\"Wine\"]\n",
    "round(wine_summation[\"Y2015\"].sum(), 2)\n",
    "round(wine_summation[\"Y2018\"].sum(), 2)"
   ]
  },
  {
   "cell_type": "markdown",
   "id": "d40d0837-5eae-4996-867a-4940dfd5f3b5",
   "metadata": {},
   "source": [
    "Areas that had the 7th lowest sum in 2017"
   ]
  },
  {
   "cell_type": "code",
   "execution_count": 195,
   "id": "c163745b-fab7-45f9-a73f-54001bffda49",
   "metadata": {
    "collapsed": true,
    "jupyter": {
     "outputs_hidden": true
    },
    "tags": []
   },
   "outputs": [
    {
     "data": {
      "text/plain": [
       "Area\n",
       "Guinea-Bissau    19102.77\n",
       "Name: Y2017, dtype: float64"
      ]
     },
     "execution_count": 195,
     "metadata": {},
     "output_type": "execute_result"
    }
   ],
   "source": [
    "lowest_area=data.groupby(\"Area\")[\"Y2017\"].sum()\n",
    "lowest_area=lowest_area.sort_values(ascending=True)\n",
    "seventh_lowest_area=lowest_area[6:7]\n",
    "seventh_lowest_area\n",
    "#lowest_area"
   ]
  },
  {
   "cell_type": "code",
   "execution_count": null,
   "id": "1cdf564c-3c88-483f-acae-c3714a2766a7",
   "metadata": {},
   "outputs": [],
   "source": [
    "Perform a groupby operation on ‘Element’.  What year has the highest sum of Stock Variation"
   ]
  },
  {
   "cell_type": "code",
   "execution_count": 199,
   "id": "b7a3b041-247a-4229-a096-ba01545f18ce",
   "metadata": {
    "collapsed": true,
    "jupyter": {
     "outputs_hidden": true
    },
    "tags": []
   },
   "outputs": [
    {
     "data": {
      "text/plain": [
       "(58749.83, 34910.990000000005, 33140.12, 54316.91)"
      ]
     },
     "execution_count": 199,
     "metadata": {},
     "output_type": "execute_result"
    }
   ],
   "source": [
    "high_stock_variation=data.loc[data[\"Element\"]==\"Stock Variation\"]\n",
    "year_with_high_stock_variation=high_stock_variation[\"Y2014\"].sum(),high_stock_variation[\"Y2015\"].sum(),high_stock_variation[\"Y2016\"].sum(),high_stock_variation[\"Y2017\"].sum()\n",
    "year_with_high_stock_variation"
   ]
  },
  {
   "cell_type": "code",
   "execution_count": null,
   "id": "6db3f875-6c68-45cb-9bfc-3430e14663f6",
   "metadata": {},
   "outputs": [],
   "source": []
  }
 ],
 "metadata": {
  "kernelspec": {
   "display_name": "Python 3 (ipykernel)",
   "language": "python",
   "name": "python3"
  },
  "language_info": {
   "codemirror_mode": {
    "name": "ipython",
    "version": 3
   },
   "file_extension": ".py",
   "mimetype": "text/x-python",
   "name": "python",
   "nbconvert_exporter": "python",
   "pygments_lexer": "ipython3",
   "version": "3.8.13"
  }
 },
 "nbformat": 4,
 "nbformat_minor": 5
}
